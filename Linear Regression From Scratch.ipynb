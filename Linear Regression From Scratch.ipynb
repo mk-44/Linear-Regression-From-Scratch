{
 "cells": [
  {
   "cell_type": "code",
   "execution_count": 2,
   "id": "7331c746",
   "metadata": {},
   "outputs": [],
   "source": [
    "import numpy as np\n",
    "import pandas as pd\n",
    "import matplotlib.pyplot as plt"
   ]
  },
  {
   "cell_type": "code",
   "execution_count": 3,
   "id": "f7a5c5dc",
   "metadata": {},
   "outputs": [
    {
     "data": {
      "text/html": [
       "<div>\n",
       "<style scoped>\n",
       "    .dataframe tbody tr th:only-of-type {\n",
       "        vertical-align: middle;\n",
       "    }\n",
       "\n",
       "    .dataframe tbody tr th {\n",
       "        vertical-align: top;\n",
       "    }\n",
       "\n",
       "    .dataframe thead th {\n",
       "        text-align: right;\n",
       "    }\n",
       "</style>\n",
       "<table border=\"1\" class=\"dataframe\">\n",
       "  <thead>\n",
       "    <tr style=\"text-align: right;\">\n",
       "      <th></th>\n",
       "      <th>Species</th>\n",
       "      <th>Weight</th>\n",
       "      <th>Length1</th>\n",
       "      <th>Length2</th>\n",
       "      <th>Length3</th>\n",
       "      <th>Height</th>\n",
       "      <th>Width</th>\n",
       "    </tr>\n",
       "  </thead>\n",
       "  <tbody>\n",
       "    <tr>\n",
       "      <th>0</th>\n",
       "      <td>Bream</td>\n",
       "      <td>242.0</td>\n",
       "      <td>23.2</td>\n",
       "      <td>25.4</td>\n",
       "      <td>30.0</td>\n",
       "      <td>11.5200</td>\n",
       "      <td>4.0200</td>\n",
       "    </tr>\n",
       "    <tr>\n",
       "      <th>1</th>\n",
       "      <td>Bream</td>\n",
       "      <td>290.0</td>\n",
       "      <td>24.0</td>\n",
       "      <td>26.3</td>\n",
       "      <td>31.2</td>\n",
       "      <td>12.4800</td>\n",
       "      <td>4.3056</td>\n",
       "    </tr>\n",
       "    <tr>\n",
       "      <th>2</th>\n",
       "      <td>Bream</td>\n",
       "      <td>340.0</td>\n",
       "      <td>23.9</td>\n",
       "      <td>26.5</td>\n",
       "      <td>31.1</td>\n",
       "      <td>12.3778</td>\n",
       "      <td>4.6961</td>\n",
       "    </tr>\n",
       "    <tr>\n",
       "      <th>3</th>\n",
       "      <td>Bream</td>\n",
       "      <td>363.0</td>\n",
       "      <td>26.3</td>\n",
       "      <td>29.0</td>\n",
       "      <td>33.5</td>\n",
       "      <td>12.7300</td>\n",
       "      <td>4.4555</td>\n",
       "    </tr>\n",
       "    <tr>\n",
       "      <th>4</th>\n",
       "      <td>Bream</td>\n",
       "      <td>430.0</td>\n",
       "      <td>26.5</td>\n",
       "      <td>29.0</td>\n",
       "      <td>34.0</td>\n",
       "      <td>12.4440</td>\n",
       "      <td>5.1340</td>\n",
       "    </tr>\n",
       "  </tbody>\n",
       "</table>\n",
       "</div>"
      ],
      "text/plain": [
       "  Species  Weight  Length1  Length2  Length3   Height   Width\n",
       "0   Bream   242.0     23.2     25.4     30.0  11.5200  4.0200\n",
       "1   Bream   290.0     24.0     26.3     31.2  12.4800  4.3056\n",
       "2   Bream   340.0     23.9     26.5     31.1  12.3778  4.6961\n",
       "3   Bream   363.0     26.3     29.0     33.5  12.7300  4.4555\n",
       "4   Bream   430.0     26.5     29.0     34.0  12.4440  5.1340"
      ]
     },
     "execution_count": 3,
     "metadata": {},
     "output_type": "execute_result"
    }
   ],
   "source": [
    "df = pd.read_csv(\"./Fish.csv\")\n",
    "df.head()"
   ]
  },
  {
   "cell_type": "code",
   "execution_count": 4,
   "id": "5efd98a6",
   "metadata": {},
   "outputs": [
    {
     "name": "stdout",
     "output_type": "stream",
     "text": [
      "['Bream' 'Parkki' 'Perch' 'Pike' 'Roach' 'Smelt' 'Whitefish']\n",
      "   Species  Weight  Length1  Length2  Length3   Height   Width\n",
      "0        0   242.0     23.2     25.4     30.0  11.5200  4.0200\n",
      "1        0   290.0     24.0     26.3     31.2  12.4800  4.3056\n",
      "2        0   340.0     23.9     26.5     31.1  12.3778  4.6961\n",
      "3        0   363.0     26.3     29.0     33.5  12.7300  4.4555\n",
      "4        0   430.0     26.5     29.0     34.0  12.4440  5.1340\n"
     ]
    }
   ],
   "source": [
    "from sklearn.preprocessing import LabelEncoder\n",
    "le = LabelEncoder()\n",
    "df[\"Species\"] = le.fit_transform(df[\"Species\"])\n",
    "print(le.classes_)\n",
    "print(df.head())"
   ]
  },
  {
   "cell_type": "code",
   "execution_count": 5,
   "id": "6c767b91",
   "metadata": {},
   "outputs": [],
   "source": [
    "X = df.iloc[:, [0, 2, 3, 4, 5, 6]].to_numpy()\n",
    "Y = df.iloc[:, 1].to_numpy()"
   ]
  },
  {
   "cell_type": "code",
   "execution_count": 6,
   "id": "30595e7a",
   "metadata": {},
   "outputs": [],
   "source": [
    "def preprocess(X):\n",
    "    mu = X.mean(axis = 0)\n",
    "    sigma = X.std(axis = 0)\n",
    "    X = (X-mu)/sigma\n",
    "    \n",
    "    ones = np.ones((X.shape[0], 1))\n",
    "    X_ = np.append(ones, X, axis = 1)\n",
    "    return X_"
   ]
  },
  {
   "cell_type": "code",
   "execution_count": 7,
   "id": "724c863d",
   "metadata": {},
   "outputs": [],
   "source": [
    "X = preprocess(X)"
   ]
  },
  {
   "cell_type": "code",
   "execution_count": 8,
   "id": "674565bc",
   "metadata": {},
   "outputs": [],
   "source": [
    "Y = Y.reshape((-1,1))"
   ]
  },
  {
   "cell_type": "code",
   "execution_count": 9,
   "id": "63fe7d19",
   "metadata": {},
   "outputs": [
    {
     "name": "stdout",
     "output_type": "stream",
     "text": [
      "(159, 7) (159, 1)\n"
     ]
    }
   ],
   "source": [
    "print(X.shape, Y.shape)"
   ]
  },
  {
   "cell_type": "code",
   "execution_count": 10,
   "id": "4aff175f",
   "metadata": {},
   "outputs": [],
   "source": [
    "from sklearn.model_selection import train_test_split"
   ]
  },
  {
   "cell_type": "code",
   "execution_count": 11,
   "id": "f69d9f05",
   "metadata": {},
   "outputs": [],
   "source": [
    "X_train, X_test, Y_train, Y_test = train_test_split(X, Y, shuffle = True, test_size = 0.2)"
   ]
  },
  {
   "cell_type": "code",
   "execution_count": 12,
   "id": "a4b06931",
   "metadata": {},
   "outputs": [
    {
     "name": "stdout",
     "output_type": "stream",
     "text": [
      "(127, 7) (32, 7) (127, 1) (32, 1)\n"
     ]
    }
   ],
   "source": [
    "print(X_train.shape, X_test.shape, Y_train.shape, Y_test.shape)"
   ]
  },
  {
   "cell_type": "code",
   "execution_count": 13,
   "id": "0a101eed",
   "metadata": {},
   "outputs": [],
   "source": [
    "def hypothesis(X, theta):\n",
    "    return X.dot(theta)\n",
    "\n",
    "def mse(X, theta, Y):\n",
    "    Y_ = hypothesis(X, theta)\n",
    "    return ((Y_ - Y)**2).sum()/X.shape[0]\n",
    "\n",
    "def gradient(X, theta, Y):\n",
    "    Y_=  hypothesis(X, theta)\n",
    "    return X.T.dot(Y_ - Y)/X.shape[0]\n",
    "\n",
    "def gradient_descent(X, Y, lr = 0.04, epochs = 500):\n",
    "    theta = np.zeros((X.shape[1], 1))\n",
    "    loss = []\n",
    "    for e in range(epochs):\n",
    "        theta = theta - lr*gradient(X, theta, Y)\n",
    "        loss.append(mse(X, theta, Y))\n",
    "    return hypothesis(X, theta), loss"
   ]
  },
  {
   "cell_type": "code",
   "execution_count": 14,
   "id": "8601962e",
   "metadata": {},
   "outputs": [],
   "source": [
    "Y_train_pred, loss = gradient_descent(X_train, Y_train)"
   ]
  },
  {
   "cell_type": "code",
   "execution_count": 15,
   "id": "18cb77cc",
   "metadata": {},
   "outputs": [
    {
     "data": {
      "image/png": "[encoded data removed]",
      "text/plain": [
       "<Figure size 432x288 with 1 Axes>"
      ]
     },
     "metadata": {
      "needs_background": "light"
     },
     "output_type": "display_data"
    }
   ],
   "source": [
    "plt.plot(loss)\n",
    "plt.show()"
   ]
  },
  {
   "cell_type": "code",
   "execution_count": 16,
   "id": "26891aa3",
   "metadata": {},
   "outputs": [],
   "source": [
    "def r2Score(Y, Y_pred):\n",
    "    num = ((Y - Y_pred)**2).sum()\n",
    "    den = ((Y - Y.mean())**2).sum()\n",
    "    return 1 - (num/den)\n",
    "\n",
    "def adjusted_r2Score(Y, Y_pred, m, n):\n",
    "    r2 = r2Score(Y, Y_pred)\n",
    "    return 1 - ((1-r2)*(m-1)/(m-n-1))"
   ]
  },
  {
   "cell_type": "code",
   "execution_count": 17,
   "id": "efee653c",
   "metadata": {},
   "outputs": [
    {
     "name": "stdout",
     "output_type": "stream",
     "text": [
      "0.8783734321078431\n",
      "0.8851304636574074\n"
     ]
    }
   ],
   "source": [
    "m, n = X_train.shape\n",
    "print(adjusted_r2Score(Y_train, Y_train_pred, m, n))\n",
    "print(r2Score(Y_train, Y_train_pred))"
   ]
  },
  {
   "cell_type": "code",
   "execution_count": 18,
   "id": "9fd932e8",
   "metadata": {
    "scrolled": true
   },
   "outputs": [
    {
     "name": "stdout",
     "output_type": "stream",
     "text": [
      "0.8869908445496912\n",
      "0.8932691309635973\n"
     ]
    }
   ],
   "source": [
    "#Using Closed Form Solution\n",
    "\n",
    "theta = np.linalg.pinv(X_train.T.dot(X_train)).dot(X_train.T.dot(Y_train))\n",
    "Y_p_train = X_train.dot(theta)\n",
    "print(adjusted_r2Score(Y_train, Y_p_train, m, n))\n",
    "print(r2Score(Y_train, Y_p_train))"
   ]
  },
  {
   "cell_type": "code",
   "execution_count": null,
   "id": "871f8c85",
   "metadata": {},
   "outputs": [],
   "source": []
  }
 ],
 "metadata": {
  "kernelspec": {
   "display_name": "Python 3 (ipykernel)",
   "language": "python",
   "name": "python3"
  },
  "language_info": {
   "codemirror_mode": {
    "name": "ipython",
    "version": 3
   },
   "file_extension": ".py",
   "mimetype": "text/x-python",
   "name": "python",
   "nbconvert_exporter": "python",
   "pygments_lexer": "ipython3",
   "version": "3.9.12"
  }
 },
 "nbformat": 4,
 "nbformat_minor": 5
}
